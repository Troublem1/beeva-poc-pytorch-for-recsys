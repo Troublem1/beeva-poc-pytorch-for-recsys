{
 "cells": [
  {
   "cell_type": "markdown",
   "metadata": {},
   "source": [
    "## Recommender Systems with Spotlight (on Pytorch)\n",
    "\n",
    "### Installation"
   ]
  },
  {
   "cell_type": "code",
   "execution_count": 1,
   "metadata": {},
   "outputs": [
    {
     "name": "stdout",
     "output_type": "stream",
     "text": [
      "Solving environment: done\n",
      "\n",
      "# All requested packages already installed.\n",
      "\n"
     ]
    }
   ],
   "source": [
    "# Install a conda package in the current Jupyter kernel\n",
    "import sys\n",
    "!conda clean --index-cache\n",
    "!conda install --yes --prefix {sys.prefix} -c maciejkula -c pytorch spotlight=0.1.3"
   ]
  },
  {
   "cell_type": "code",
   "execution_count": 2,
   "metadata": {},
   "outputs": [],
   "source": [
    "from spotlight.cross_validation import random_train_test_split\n",
    "from spotlight.datasets.movielens import get_movielens_dataset\n",
    "from spotlight.factorization.implicit import ImplicitFactorizationModel\n"
   ]
  },
  {
   "cell_type": "markdown",
   "metadata": {},
   "source": [
    "### Wide matrix vs. narrow matrix.\n",
    "\n",
    "#### Using dataset Movielens1M"
   ]
  },
  {
   "cell_type": "code",
   "execution_count": 3,
   "metadata": {
    "collapsed": true
   },
   "outputs": [],
   "source": [
    "d1 = get_movielens_dataset(variant='10M')\n",
    "train, test = random_train_test_split(d1)"
   ]
  },
  {
   "cell_type": "code",
   "execution_count": 4,
   "metadata": {},
   "outputs": [
    {
     "name": "stdout",
     "output_type": "stream",
     "text": [
      "Training finished on 12789.3924692s\n"
     ]
    }
   ],
   "source": [
    "import time\n",
    "start = time.time()\n",
    "\n",
    "model = ImplicitFactorizationModel(n_iter=3, loss='bpr')\n",
    "model.fit(train)\n",
    "\n",
    "end = time.time()\n",
    "print \"Training finished on %ss\" %(end - start)"
   ]
  },
  {
   "cell_type": "markdown",
   "metadata": {},
   "source": [
    "### Evaluation metrics"
   ]
  },
  {
   "cell_type": "code",
   "execution_count": 5,
   "metadata": {
    "collapsed": true
   },
   "outputs": [],
   "source": [
    "# Based on precision_recall_score\n",
    "from spotlight.evaluation import precision_recall_score\n",
    "import numpy as np\n",
    "\n",
    "def f1_score(model, test):\n",
    "    pre_rec  = precision_recall_score(model, test)\n",
    "    precision = pre_rec[0]\n",
    "    recall = pre_rec[1]\n",
    "    f1 = [2*precision[i]*recall[i]/(0.0001+precision[i]+recall[i]) for i in range(len(precision))]\n",
    "    return f1"
   ]
  },
  {
   "cell_type": "code",
   "execution_count": 6,
   "metadata": {
    "collapsed": true
   },
   "outputs": [],
   "source": [
    "import scipy.stats as st\n",
    "def map_score(model, test, train=None):\n",
    "    \"\"\"\n",
    "    Compute mean average precision (MAP) scores.\n",
    "    Calculates the average precision for each user's recommendation vector,\n",
    "    then computes the resultant mean for all users.\n",
    "\n",
    "    Parameters\n",
    "    ----------\n",
    "\n",
    "    model: fitted instance of a recommender model\n",
    "        The model to evaluate.\n",
    "    test: :class:`spotlight.interactions.Interactions`\n",
    "        Test interactions.\n",
    "    train: :class:`spotlight.interactions.Interactions`, optional\n",
    "        Train interactions. If supplied, scores of known\n",
    "        interactions will be set to very low values and so not\n",
    "        affect the MAP.\n",
    "\n",
    "    Returns\n",
    "    -------\n",
    "\n",
    "    map score: numpy array of shape (num_users,)\n",
    "        Array of MAP scores for each user in test.\n",
    "    \"\"\"\n",
    "\n",
    "    test = test.tocsr()\n",
    "    if train is not None:\n",
    "        train = train.tocsr()\n",
    "\n",
    "    ap = []\n",
    "\n",
    "    for user_id, row in enumerate(test):\n",
    "        if not len(row.indices):\n",
    "            continue\n",
    "        predictions = -model.predict(user_id)\n",
    "        if train is not None:\n",
    "            predictions[train[user_id].indices] = FLOAT_MAX\n",
    "\n",
    "        prec = []\n",
    "        ranking = np.sort(st.rankdata(predictions)[row.indices])\n",
    "        for index, value in enumerate(ranking):\n",
    "            prec.append((index + 1) / value)\n",
    "        ap.append(sum(prec) / len(ranking))\n",
    "\n",
    "    return np.array(ap)"
   ]
  },
  {
   "cell_type": "code",
   "execution_count": 7,
   "metadata": {},
   "outputs": [
    {
     "name": "stdout",
     "output_type": "stream",
     "text": [
      "MAP is 0.0763492406134\n",
      "f1_score is 0.0586242915903\n"
     ]
    }
   ],
   "source": [
    "my_map_score = map_score(model, test)\n",
    "print \"MAP is %s\" %np.mean(my_map_score)\n",
    "\n",
    "my_f1_score = f1_score(model, test)\n",
    "print \"f1_score is %s\" %np.mean(my_f1_score)"
   ]
  },
  {
   "cell_type": "markdown",
   "metadata": {},
   "source": [
    "#### Using dataset2: Movielens1M transposed"
   ]
  },
  {
   "cell_type": "code",
   "execution_count": 8,
   "metadata": {
    "collapsed": true
   },
   "outputs": [],
   "source": [
    "from spotlight import interactions\n",
    "d2 = interactions.Interactions(d1.item_ids, d1.user_ids, d1.ratings,d1.timestamps,d1.weights,d1.num_items,d1.num_users)\n",
    "train2, test2 = random_train_test_split(d2)"
   ]
  },
  {
   "cell_type": "code",
   "execution_count": 9,
   "metadata": {},
   "outputs": [
    {
     "name": "stdout",
     "output_type": "stream",
     "text": [
      "Training finished on 9581.53764796s\n"
     ]
    }
   ],
   "source": [
    "import time\n",
    "start = time.time()\n",
    "\n",
    "model2 = ImplicitFactorizationModel(n_iter=3, loss='bpr')\n",
    "model2.fit(train2)\n",
    "\n",
    "end = time.time()\n",
    "print \"Training finished on %ss\" %(end - start)"
   ]
  },
  {
   "cell_type": "code",
   "execution_count": 10,
   "metadata": {},
   "outputs": [
    {
     "name": "stdout",
     "output_type": "stream",
     "text": [
      "MAP is 0.0403900462079\n",
      "f1_score is 0.0246218219745\n"
     ]
    }
   ],
   "source": [
    "my_map_score = map_score(model2, test2)\n",
    "print \"MAP is %s\" %np.mean(my_map_score)\n",
    "\n",
    "my_f1_score = f1_score(model2, test2)\n",
    "print \"f1_score is %s\" %np.mean(my_f1_score)"
   ]
  }
 ],
 "metadata": {
  "kernelspec": {
   "display_name": "Python 2",
   "language": "python",
   "name": "python2"
  },
  "language_info": {
   "codemirror_mode": {
    "name": "ipython",
    "version": 2
   },
   "file_extension": ".py",
   "mimetype": "text/x-python",
   "name": "python",
   "nbconvert_exporter": "python",
   "pygments_lexer": "ipython2",
   "version": "2.7.14"
  }
 },
 "nbformat": 4,
 "nbformat_minor": 2
}
