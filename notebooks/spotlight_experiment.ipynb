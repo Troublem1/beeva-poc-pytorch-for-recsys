{
 "cells": [
  {
   "cell_type": "markdown",
   "metadata": {},
   "source": [
    "## Recommender Systems with Spotlight (on Pytorch)\n",
    "\n",
    "### Installation"
   ]
  },
  {
   "cell_type": "code",
   "execution_count": 1,
   "metadata": {
    "collapsed": false
   },
   "outputs": [
    {
     "name": "stdout",
     "output_type": "stream",
     "text": [
      "Solving environment: done\n",
      "\n",
      "## Package Plan ##\n",
      "\n",
      "  environment location: /opt/conda\n",
      "\n",
      "  added / updated specs: \n",
      "    - spotlight=0.1.3\n",
      "\n",
      "\n",
      "The following packages will be downloaded:\n",
      "\n",
      "    package                    |            build\n",
      "    ---------------------------|-----------------\n",
      "    certifi-2017.11.5          |   py27h71e7faf_0         196 KB\n",
      "    spotlight-0.1.3            |   py27h7f24ad5_0          42 KB  maciejkula\n",
      "    openssl-1.0.2n             |       hb7f436b_0         3.4 MB\n",
      "    pytorch-0.3.0              |py27_cuda8.0.61_cudnn7.0.3hf383a3f_4       416.5 MB  pytorch\n",
      "    cudatoolkit-8.0            |                3       322.4 MB\n",
      "    ------------------------------------------------------------\n",
      "                                           Total:       742.6 MB\n",
      "\n",
      "The following NEW packages will be INSTALLED:\n",
      "\n",
      "    cudatoolkit: 8.0-3                                                \n",
      "    pytorch:     0.3.0-py27_cuda8.0.61_cudnn7.0.3hf383a3f_4 pytorch   \n",
      "    spotlight:   0.1.3-py27h7f24ad5_0                       maciejkula\n",
      "\n",
      "The following packages will be UPDATED:\n",
      "\n",
      "    certifi:     2017.7.27.1-py27h9ceb091_0                            --> 2017.11.5-py27h71e7faf_0\n",
      "    openssl:     1.0.2l-h077ae2c_5                                     --> 1.0.2n-hb7f436b_0       \n",
      "\n",
      "\n",
      "Downloading and Extracting Packages\n",
      "certifi 2017.11.5: ##################################################### | 100% \n",
      "spotlight 0.1.3: ####################################################### | 100% \n",
      "openssl 1.0.2n: ######################################################## | 100% \n",
      "pytorch 0.3.0: ######################################################### | 100% \n",
      "cudatoolkit 8.0: ####################################################### | 100% \n",
      "Preparing transaction: done\n",
      "Verifying transaction: done\n",
      "Executing transaction: done\n"
     ]
    }
   ],
   "source": [
    "# Install a conda package in the current Jupyter kernel\n",
    "import sys\n",
    "!conda clean --index-cache\n",
    "!conda install --yes --prefix {sys.prefix} -c maciejkula -c pytorch spotlight=0.1.3"
   ]
  },
  {
   "cell_type": "code",
   "execution_count": 2,
   "metadata": {
    "collapsed": true
   },
   "outputs": [],
   "source": [
    "from spotlight.cross_validation import random_train_test_split\n",
    "from spotlight.datasets.movielens import get_movielens_dataset\n",
    "from spotlight.factorization.implicit import ImplicitFactorizationModel\n"
   ]
  },
  {
   "cell_type": "markdown",
   "metadata": {},
   "source": [
    "### Wide matrix vs. narrow matrix.\n",
    "\n",
    "#### Using dataset Movielens"
   ]
  },
  {
   "cell_type": "markdown",
   "metadata": {},
   "source": [
    "### Configuration"
   ]
  },
  {
   "cell_type": "code",
   "execution_count": 3,
   "metadata": {
    "collapsed": true
   },
   "outputs": [],
   "source": [
    "USE_GPU = False\n",
    "DATASET = '1M'"
   ]
  },
  {
   "cell_type": "code",
   "execution_count": 4,
   "metadata": {
    "collapsed": true
   },
   "outputs": [],
   "source": [
    "d1 = get_movielens_dataset(variant=DATASET)\n",
    "train, test = random_train_test_split(d1)"
   ]
  },
  {
   "cell_type": "code",
   "execution_count": 5,
   "metadata": {
    "collapsed": false
   },
   "outputs": [
    {
     "name": "stdout",
     "output_type": "stream",
     "text": [
      "Training finished on 30.8242278099s\n"
     ]
    }
   ],
   "source": [
    "import time\n",
    "start = time.time()\n",
    "\n",
    "model = ImplicitFactorizationModel(n_iter=3, loss='bpr', use_cuda=USE_GPU)\n",
    "model.fit(train)\n",
    "\n",
    "end = time.time()\n",
    "print(\"Training finished on {}s\".format(end - start))"
   ]
  },
  {
   "cell_type": "markdown",
   "metadata": {},
   "source": [
    "### Evaluation metrics"
   ]
  },
  {
   "cell_type": "code",
   "execution_count": 6,
   "metadata": {
    "collapsed": true
   },
   "outputs": [],
   "source": [
    "# Based on precision_recall_score\n",
    "from spotlight.evaluation import precision_recall_score\n",
    "import numpy as np\n",
    "\n",
    "def f1_score(model, test):\n",
    "    pre_rec  = precision_recall_score(model, test)\n",
    "    precision = pre_rec[0]\n",
    "    recall = pre_rec[1]\n",
    "    f1 = [2*precision[i]*recall[i]/(0.0001+precision[i]+recall[i]) for i in range(len(precision))]\n",
    "    return f1"
   ]
  },
  {
   "cell_type": "code",
   "execution_count": 7,
   "metadata": {
    "collapsed": true
   },
   "outputs": [],
   "source": [
    "import scipy.stats as st\n",
    "def map_score(model, test, train=None):\n",
    "    \"\"\"\n",
    "    Compute mean average precision (MAP) scores.\n",
    "    Calculates the average precision for each user's recommendation vector,\n",
    "    then computes the resultant mean for all users.\n",
    "\n",
    "    Parameters\n",
    "    ----------\n",
    "\n",
    "    model: fitted instance of a recommender model\n",
    "        The model to evaluate.\n",
    "    test: :class:`spotlight.interactions.Interactions`\n",
    "        Test interactions.\n",
    "    train: :class:`spotlight.interactions.Interactions`, optional\n",
    "        Train interactions. If supplied, scores of known\n",
    "        interactions will be set to very low values and so not\n",
    "        affect the MAP.\n",
    "\n",
    "    Returns\n",
    "    -------\n",
    "\n",
    "    map score: numpy array of shape (num_users,)\n",
    "        Array of MAP scores for each user in test.\n",
    "    \"\"\"\n",
    "\n",
    "    test = test.tocsr()\n",
    "    if train is not None:\n",
    "        train = train.tocsr()\n",
    "\n",
    "    ap = []\n",
    "\n",
    "    for user_id, row in enumerate(test):\n",
    "        if not len(row.indices):\n",
    "            continue\n",
    "        predictions = -model.predict(user_id)\n",
    "        if train is not None:\n",
    "            predictions[train[user_id].indices] = FLOAT_MAX\n",
    "\n",
    "        prec = []\n",
    "        ranking = np.sort(st.rankdata(predictions)[row.indices])\n",
    "        for index, value in enumerate(ranking):\n",
    "            prec.append((index + 1) / value)\n",
    "        ap.append(sum(prec) / len(ranking))\n",
    "\n",
    "    return np.array(ap)"
   ]
  },
  {
   "cell_type": "code",
   "execution_count": 8,
   "metadata": {
    "collapsed": false
   },
   "outputs": [
    {
     "name": "stdout",
     "output_type": "stream",
     "text": [
      "MAP is 0.0762944616631\n",
      "f1_score is 0.0540406269007\n",
      "Evaluation finished on 9.05224609375s\n"
     ]
    }
   ],
   "source": [
    "start = time.time()\n",
    "my_map_score = map_score(model, test)\n",
    "print(\"MAP is {}\".format(np.mean(my_map_score)))\n",
    "\n",
    "my_f1_score = f1_score(model, test)\n",
    "print(\"f1_score is {}\".format(np.mean(my_f1_score)))\n",
    "\n",
    "end = time.time()\n",
    "print(\"Evaluation finished on {}s\".format(end - start))"
   ]
  },
  {
   "cell_type": "markdown",
   "metadata": {},
   "source": [
    "#### Using dataset2: transpose users and items"
   ]
  },
  {
   "cell_type": "code",
   "execution_count": 9,
   "metadata": {
    "collapsed": true
   },
   "outputs": [],
   "source": [
    "from spotlight import interactions\n",
    "d2 = interactions.Interactions(d1.item_ids, d1.user_ids, d1.ratings,d1.timestamps,d1.weights,d1.num_items,d1.num_users)\n",
    "train2, test2 = random_train_test_split(d2)"
   ]
  },
  {
   "cell_type": "code",
   "execution_count": 10,
   "metadata": {
    "collapsed": false
   },
   "outputs": [
    {
     "name": "stdout",
     "output_type": "stream",
     "text": [
      "Training finished on 35.3453760147s\n"
     ]
    }
   ],
   "source": [
    "import time\n",
    "start = time.time()\n",
    "\n",
    "model2 = ImplicitFactorizationModel(n_iter=3, loss='bpr', use_cuda=USE_GPU)\n",
    "model2.fit(train2)\n",
    "\n",
    "end = time.time()\n",
    "print(\"Training finished on {}s\".format(end - start))"
   ]
  },
  {
   "cell_type": "code",
   "execution_count": 11,
   "metadata": {
    "collapsed": false
   },
   "outputs": [
    {
     "name": "stdout",
     "output_type": "stream",
     "text": [
      "MAP is 0.0664028952701\n",
      "f1_score is 0.0359944871129\n",
      "Evaluation finished on 8.42612719536s\n"
     ]
    }
   ],
   "source": [
    "start = time.time()\n",
    "my_map_score = map_score(model2, test2)\n",
    "print(\"MAP is {}\".format(np.mean(my_map_score)))\n",
    "\n",
    "my_f1_score = f1_score(model2, test2)\n",
    "print(\"f1_score is {}\".format(np.mean(my_f1_score)))\n",
    "\n",
    "end = time.time()\n",
    "print(\"Evaluation finished on {}s\".format(end - start))"
   ]
  },
  {
   "cell_type": "code",
   "execution_count": null,
   "metadata": {
    "collapsed": true
   },
   "outputs": [],
   "source": []
  }
 ],
 "metadata": {
  "kernelspec": {
   "display_name": "Python 2",
   "language": "python",
   "name": "python2"
  },
  "language_info": {
   "codemirror_mode": {
    "name": "ipython",
    "version": 2
   },
   "file_extension": ".py",
   "mimetype": "text/x-python",
   "name": "python",
   "nbconvert_exporter": "python",
   "pygments_lexer": "ipython2",
   "version": "2.7.12"
  }
 },
 "nbformat": 4,
 "nbformat_minor": 2
}
